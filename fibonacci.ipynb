{
 "cells": [
  {
   "cell_type": "code",
   "execution_count": 5,
   "id": "5eade6c3-1d95-4bcd-afad-23af6f9e0d44",
   "metadata": {},
   "outputs": [
    {
     "name": "stdout",
     "output_type": "stream",
     "text": [
      "1\n",
      "2\n",
      "3\n"
     ]
    }
   ],
   "source": [
    "\n",
    "def fibonacci(num):\n",
    "    if (num == 1):\n",
    "        return 0\n",
    "    elif (num == 2):\n",
    "        return 1\n",
    "    else:\n",
    "        fib = 1\n",
    "        for i in range(1, num+1):       \n",
    "            fib += \n",
    "    return\n",
    "\n",
    "\n",
    "fibonacci(3)\n"
   ]
  },
  {
   "cell_type": "code",
   "execution_count": null,
   "id": "ad9e9cda-4486-4e3f-8a54-c8a3446a5664",
   "metadata": {},
   "outputs": [],
   "source": []
  }
 ],
 "metadata": {
  "kernelspec": {
   "display_name": "Python 3 (ipykernel)",
   "language": "python",
   "name": "python3"
  },
  "language_info": {
   "codemirror_mode": {
    "name": "ipython",
    "version": 3
   },
   "file_extension": ".py",
   "mimetype": "text/x-python",
   "name": "python",
   "nbconvert_exporter": "python",
   "pygments_lexer": "ipython3",
   "version": "3.7.4"
  }
 },
 "nbformat": 4,
 "nbformat_minor": 5
}
